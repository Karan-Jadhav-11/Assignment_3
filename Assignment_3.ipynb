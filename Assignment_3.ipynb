{
 "cells": [
  {
   "cell_type": "markdown",
   "id": "9ac22a0d-bfb5-47b9-9f0c-92936f7cc052",
   "metadata": {},
   "source": [
    "# Assignment 3"
   ]
  },
  {
   "cell_type": "markdown",
   "id": "10504dff-f17c-4212-9edb-06e4f1c2cddd",
   "metadata": {},
   "source": [
    "### Q1.Explain with an example each when to use a for loop and a while loop."
   ]
  },
  {
   "cell_type": "markdown",
   "id": "1a5eceef-7891-49f7-a6d2-6bb18f89e0a6",
   "metadata": {},
   "source": [
    "Ans: \n",
    "In Python, both for loops and while loops are used for iterating through sequences of data or executing a block of code repeatedly. \n",
    "\n",
    "#### For loop\n",
    "A for loop in Python is typically used when you know the exact number of times a block of code needs to be executed.'for' loop used to iterate sequential data type like List, Tuple ,string etc.\n"
   ]
  },
  {
   "cell_type": "code",
   "execution_count": 2,
   "id": "cae35485-b25e-40e2-9162-d44b5e3e4690",
   "metadata": {},
   "outputs": [
    {
     "name": "stdout",
     "output_type": "stream",
     "text": [
      "apple\n",
      "banana\n",
      "chery\n",
      "orange\n"
     ]
    }
   ],
   "source": [
    "#  when we need to iterate sequential data\n",
    "# example\n",
    "\n",
    "fruits = [\"apple\",\"banana\",\"chery\",\"orange\"]\n",
    "for i in fruits:\n",
    "    print(i)"
   ]
  },
  {
   "cell_type": "code",
   "execution_count": 3,
   "id": "885180af-44cf-433d-b9e7-fcfcc2e0b144",
   "metadata": {},
   "outputs": [
    {
     "name": "stdout",
     "output_type": "stream",
     "text": [
      "0\n",
      "1\n",
      "2\n",
      "3\n",
      "4\n",
      "5\n",
      "6\n",
      "7\n",
      "8\n",
      "9\n"
     ]
    }
   ],
   "source": [
    "# when we nees to iterate over a range\n",
    "for i in range(10):\n",
    "    print(i)"
   ]
  },
  {
   "cell_type": "code",
   "execution_count": 4,
   "id": "6bde75d1-c575-4491-bc48-9fd0a05c39db",
   "metadata": {},
   "outputs": [
    {
     "name": "stdout",
     "output_type": "stream",
     "text": [
      "name: John\n",
      "age: 30\n",
      "city: New York\n"
     ]
    }
   ],
   "source": [
    "# When dealing with iterable objects:\n",
    "person = {'name': 'John', 'age': 30, 'city': 'New York'}\n",
    "for key, value in person.items():\n",
    "    print(f'{key}: {value}')"
   ]
  },
  {
   "cell_type": "markdown",
   "id": "ceaf3ead-a50a-4034-bc6a-9e6df08f91cd",
   "metadata": {},
   "source": [
    "#### While Loop\n",
    "A while loop in Python is used when a condition is to be met true, or if you want a block of code to repeat an unknown number of times until a condition is met.\n",
    "then While Loop is used "
   ]
  },
  {
   "cell_type": "code",
   "execution_count": 6,
   "id": "39fb2126-c247-4d5a-9c43-04c8428c44a1",
   "metadata": {},
   "outputs": [
    {
     "name": "stdin",
     "output_type": "stream",
     "text": [
      "Enter the Number 7\n"
     ]
    },
    {
     "name": "stdout",
     "output_type": "stream",
     "text": [
      "1\n",
      "2\n",
      "3\n",
      "4\n",
      "5\n",
      "6\n",
      "7\n"
     ]
    }
   ],
   "source": [
    "#example of a while loop in Python that prints the numbers from 1 to n:\n",
    "n = int (input(\"Enter the Number\"))\n",
    "i = 1\n",
    "while i <= n:\n",
    "    print(i)\n",
    "    i=i+1"
   ]
  },
  {
   "cell_type": "markdown",
   "id": "36876c69-aac6-4a2c-9cbf-dcaf017cc32d",
   "metadata": {},
   "source": [
    "In this example, the loop will continue to execute as long as i is less than or equal to n. Once i becomes n+1, the condition i <= n is no longer true, so the loop terminates."
   ]
  },
  {
   "cell_type": "code",
   "execution_count": 10,
   "id": "d2d98c1a-c0b9-4bc1-923a-b2315833427c",
   "metadata": {},
   "outputs": [
    {
     "name": "stdout",
     "output_type": "stream",
     "text": [
      "45\n"
     ]
    }
   ],
   "source": [
    "\n",
    "       "
   ]
  },
  {
   "cell_type": "markdown",
   "id": "bd76166e-f69b-4e60-92b3-e2c1c3f05aee",
   "metadata": {},
   "source": [
    "### Q2.  Write a python program to print the sum and product of the first 10 natural numbers using for  and while loop. "
   ]
  },
  {
   "cell_type": "markdown",
   "id": "fff01ca3-942f-4d00-859f-29707da42eff",
   "metadata": {},
   "source": [
    "#### Ans: 1) using for loop \n",
    "    "
   ]
  },
  {
   "cell_type": "code",
   "execution_count": 17,
   "id": "994c894e-c9c6-4c94-b874-43fd136aedbe",
   "metadata": {},
   "outputs": [
    {
     "name": "stdout",
     "output_type": "stream",
     "text": [
      "The sum of the first 10 natural numbers is: 55\n",
      "The product of the first 10 natural numbers is: 3628800\n"
     ]
    }
   ],
   "source": [
    "sum = 0\n",
    "product = 1\n",
    "for i in range(1,11):\n",
    "    sum = sum + i\n",
    "    product = product * i\n",
    "print(\"The sum of the first 10 natural numbers is:\", sum )\n",
    "print(\"The product of the first 10 natural numbers is:\", product)"
   ]
  },
  {
   "cell_type": "markdown",
   "id": "298d4523-9a44-4115-be4d-190de8f79182",
   "metadata": {},
   "source": [
    "#### 2) Using While Loop"
   ]
  },
  {
   "cell_type": "code",
   "execution_count": 18,
   "id": "71a0354c-bc03-4eb1-bfda-7b3bcb84b4b6",
   "metadata": {},
   "outputs": [
    {
     "name": "stdout",
     "output_type": "stream",
     "text": [
      "The sum of the first 10 natural numbers is: 55\n",
      "The product of the first 10 natural numbers is: 3628800\n"
     ]
    }
   ],
   "source": [
    "i = 1\n",
    "sum = 0\n",
    "product = 1\n",
    "while i<= 10:\n",
    "    sum = sum + i\n",
    "    product = product * i\n",
    "    i = i+1\n",
    "print(\"The sum of the first 10 natural numbers is:\", sum )\n",
    "print(\"The product of the first 10 natural numbers is:\", product)\n",
    " "
   ]
  },
  {
   "cell_type": "code",
   "execution_count": null,
   "id": "884800ae-2492-49af-915b-c4c807787c9c",
   "metadata": {},
   "outputs": [],
   "source": []
  },
  {
   "cell_type": "markdown",
   "id": "6dbf7202-feb4-4df9-a27c-441b84c29eb8",
   "metadata": {},
   "source": [
    "#### Q3. Create a python program to compute the electricity bill for a household. The per-unit charges in rupees are as follows: For the first 100 units, the user will be charged Rs. 4.5 per  unit, for the next 100 units, the user will be charged Rs. 6 per unit, and for the next 100 units, the user will  be charged Rs. 10 per unit, After 300 units and above the user will be charged Rs. 20 per unit. \n"
   ]
  },
  {
   "cell_type": "code",
   "execution_count": 31,
   "id": "2d45ac32-2085-4d8a-8421-91105a387dca",
   "metadata": {},
   "outputs": [
    {
     "name": "stdin",
     "output_type": "stream",
     "text": [
      "Enter the total unit electricity consumed 310\n"
     ]
    },
    {
     "name": "stdout",
     "output_type": "stream",
     "text": [
      "You have to pay total Electric bill is :  2250.0\n"
     ]
    }
   ],
   "source": [
    "n = int (input(\"Enter the total unit electricity consumed\"))\n",
    "if n <= 100:\n",
    "# For the first 100 units, the charge is Rs. 4.5 per unit\n",
    "    print(\"You have to pay total Electric bill is : \",units * 4.5)\n",
    "elif n <= 200:\n",
    "# For the next 100 units, the charge is Rs. 6 per unit\n",
    "    print(\"You have to pay total Electric bill is : \",100 * 4.5 + (n - 100) * 6)\n",
    "elif n <= 300:\n",
    "# For the next 100 units, the charge is Rs. 10 per unit\n",
    "    print(\"You have to pay total Electric bill is : \",100 * 4.5 + 100 * 6 + (n - 200) * 10)\n",
    "else:\n",
    "# For units above 300, the charge is Rs. 20 per unit\n",
    "    print(\"You have to pay total Electric bill is : \",100 * 4.5 + 100 * 6 + 100 * 10 + (n - 300) * 20)"
   ]
  },
  {
   "cell_type": "code",
   "execution_count": null,
   "id": "224507ab-b3a7-4d29-9380-ff06069632b6",
   "metadata": {},
   "outputs": [],
   "source": []
  },
  {
   "cell_type": "markdown",
   "id": "c35d4302-82ac-47a7-895d-ce64601d844e",
   "metadata": {},
   "source": [
    "#### Q4. Create a list of numbers from 1 to 100. Use for loop and while loop to calculate the cube of each  number and if the cube of that number is divisible by 4 or 5 then append that number in a list and print  that list. "
   ]
  },
  {
   "cell_type": "markdown",
   "id": "7b6950d4-73ef-4386-b79c-d1efb997289a",
   "metadata": {},
   "source": [
    "### Ans:   "
   ]
  },
  {
   "cell_type": "code",
   "execution_count": 36,
   "id": "a92592af-6aaf-457a-834f-b90c1b82809b",
   "metadata": {},
   "outputs": [],
   "source": [
    "l=[]\n",
    "for i in range(1,101):\n",
    "    l.append(i)\n",
    "# list is created with input number from 1 to 100"
   ]
  },
  {
   "cell_type": "code",
   "execution_count": null,
   "id": "13963651-8385-4a88-ba79-3575ce81ef76",
   "metadata": {},
   "outputs": [],
   "source": [
    "l"
   ]
  },
  {
   "cell_type": "code",
   "execution_count": 39,
   "id": "1e054522-422d-4f2f-94f6-4b326b191f2e",
   "metadata": {},
   "outputs": [],
   "source": [
    "# Using For Loop for calculating Cube of each element of list l\n",
    "l1 = [] # l1 stor the cube vales from 1 to 100\n",
    "l2 = [] # l2 stor the cube vales that are divided by 4 or 5\n",
    "for i in l:\n",
    "    cube= i**3\n",
    "    l1.append(cube)\n",
    "    #if the cube of that number is divisible by 4 or 5 then append that number in a list\n",
    "    if cube % 4 ==0 or cube %5 ==0 :\n",
    "        l2.append(cube)\n",
    "        "
   ]
  },
  {
   "cell_type": "code",
   "execution_count": 40,
   "id": "e183357a-4a1c-4eae-9ed1-901decda42b3",
   "metadata": {},
   "outputs": [
    {
     "data": {
      "text/plain": [
       "[1,\n",
       " 8,\n",
       " 27,\n",
       " 64,\n",
       " 125,\n",
       " 216,\n",
       " 343,\n",
       " 512,\n",
       " 729,\n",
       " 1000,\n",
       " 1331,\n",
       " 1728,\n",
       " 2197,\n",
       " 2744,\n",
       " 3375,\n",
       " 4096,\n",
       " 4913,\n",
       " 5832,\n",
       " 6859,\n",
       " 8000,\n",
       " 9261,\n",
       " 10648,\n",
       " 12167,\n",
       " 13824,\n",
       " 15625,\n",
       " 17576,\n",
       " 19683,\n",
       " 21952,\n",
       " 24389,\n",
       " 27000,\n",
       " 29791,\n",
       " 32768,\n",
       " 35937,\n",
       " 39304,\n",
       " 42875,\n",
       " 46656,\n",
       " 50653,\n",
       " 54872,\n",
       " 59319,\n",
       " 64000,\n",
       " 68921,\n",
       " 74088,\n",
       " 79507,\n",
       " 85184,\n",
       " 91125,\n",
       " 97336,\n",
       " 103823,\n",
       " 110592,\n",
       " 117649,\n",
       " 125000,\n",
       " 132651,\n",
       " 140608,\n",
       " 148877,\n",
       " 157464,\n",
       " 166375,\n",
       " 175616,\n",
       " 185193,\n",
       " 195112,\n",
       " 205379,\n",
       " 216000,\n",
       " 226981,\n",
       " 238328,\n",
       " 250047,\n",
       " 262144,\n",
       " 274625,\n",
       " 287496,\n",
       " 300763,\n",
       " 314432,\n",
       " 328509,\n",
       " 343000,\n",
       " 357911,\n",
       " 373248,\n",
       " 389017,\n",
       " 405224,\n",
       " 421875,\n",
       " 438976,\n",
       " 456533,\n",
       " 474552,\n",
       " 493039,\n",
       " 512000,\n",
       " 531441,\n",
       " 551368,\n",
       " 571787,\n",
       " 592704,\n",
       " 614125,\n",
       " 636056,\n",
       " 658503,\n",
       " 681472,\n",
       " 704969,\n",
       " 729000,\n",
       " 753571,\n",
       " 778688,\n",
       " 804357,\n",
       " 830584,\n",
       " 857375,\n",
       " 884736,\n",
       " 912673,\n",
       " 941192,\n",
       " 970299,\n",
       " 1000000]"
      ]
     },
     "execution_count": 40,
     "metadata": {},
     "output_type": "execute_result"
    }
   ],
   "source": [
    "l1\n"
   ]
  },
  {
   "cell_type": "code",
   "execution_count": 41,
   "id": "77a85586-1bef-48a3-b4ba-df250aa6f357",
   "metadata": {},
   "outputs": [
    {
     "data": {
      "text/plain": [
       "[8,\n",
       " 64,\n",
       " 125,\n",
       " 216,\n",
       " 512,\n",
       " 1000,\n",
       " 1728,\n",
       " 2744,\n",
       " 3375,\n",
       " 4096,\n",
       " 5832,\n",
       " 8000,\n",
       " 10648,\n",
       " 13824,\n",
       " 15625,\n",
       " 17576,\n",
       " 21952,\n",
       " 27000,\n",
       " 32768,\n",
       " 39304,\n",
       " 42875,\n",
       " 46656,\n",
       " 54872,\n",
       " 64000,\n",
       " 74088,\n",
       " 85184,\n",
       " 91125,\n",
       " 97336,\n",
       " 110592,\n",
       " 125000,\n",
       " 140608,\n",
       " 157464,\n",
       " 166375,\n",
       " 175616,\n",
       " 195112,\n",
       " 216000,\n",
       " 238328,\n",
       " 262144,\n",
       " 274625,\n",
       " 287496,\n",
       " 314432,\n",
       " 343000,\n",
       " 373248,\n",
       " 405224,\n",
       " 421875,\n",
       " 438976,\n",
       " 474552,\n",
       " 512000,\n",
       " 551368,\n",
       " 592704,\n",
       " 614125,\n",
       " 636056,\n",
       " 681472,\n",
       " 729000,\n",
       " 778688,\n",
       " 830584,\n",
       " 857375,\n",
       " 884736,\n",
       " 941192,\n",
       " 1000000]"
      ]
     },
     "execution_count": 41,
     "metadata": {},
     "output_type": "execute_result"
    }
   ],
   "source": [
    "l2"
   ]
  },
  {
   "cell_type": "markdown",
   "id": "0706e535-1900-449e-b7e0-79507b0a9478",
   "metadata": {},
   "source": [
    "#### Using while loop\n"
   ]
  },
  {
   "cell_type": "code",
   "execution_count": 42,
   "id": "8331597a-1ef7-499e-b0df-64e65872c995",
   "metadata": {},
   "outputs": [],
   "source": [
    "l3 = [] # store cube vales\n",
    "l4 = [] # store cube values that divided by 4 or 5\n",
    "i = 1\n",
    "while i <= 100:\n",
    "    cube = i**3\n",
    "    l3.append(cube)\n",
    "    if cube % 4 ==0 or cube %5 ==0 :\n",
    "        l4.append(cube)\n",
    "    i = i+1\n"
   ]
  },
  {
   "cell_type": "code",
   "execution_count": 43,
   "id": "03f4f36a-3d77-4e0c-acf5-94fc89c3edb2",
   "metadata": {},
   "outputs": [
    {
     "data": {
      "text/plain": [
       "[1,\n",
       " 8,\n",
       " 27,\n",
       " 64,\n",
       " 125,\n",
       " 216,\n",
       " 343,\n",
       " 512,\n",
       " 729,\n",
       " 1000,\n",
       " 1331,\n",
       " 1728,\n",
       " 2197,\n",
       " 2744,\n",
       " 3375,\n",
       " 4096,\n",
       " 4913,\n",
       " 5832,\n",
       " 6859,\n",
       " 8000,\n",
       " 9261,\n",
       " 10648,\n",
       " 12167,\n",
       " 13824,\n",
       " 15625,\n",
       " 17576,\n",
       " 19683,\n",
       " 21952,\n",
       " 24389,\n",
       " 27000,\n",
       " 29791,\n",
       " 32768,\n",
       " 35937,\n",
       " 39304,\n",
       " 42875,\n",
       " 46656,\n",
       " 50653,\n",
       " 54872,\n",
       " 59319,\n",
       " 64000,\n",
       " 68921,\n",
       " 74088,\n",
       " 79507,\n",
       " 85184,\n",
       " 91125,\n",
       " 97336,\n",
       " 103823,\n",
       " 110592,\n",
       " 117649,\n",
       " 125000,\n",
       " 132651,\n",
       " 140608,\n",
       " 148877,\n",
       " 157464,\n",
       " 166375,\n",
       " 175616,\n",
       " 185193,\n",
       " 195112,\n",
       " 205379,\n",
       " 216000,\n",
       " 226981,\n",
       " 238328,\n",
       " 250047,\n",
       " 262144,\n",
       " 274625,\n",
       " 287496,\n",
       " 300763,\n",
       " 314432,\n",
       " 328509,\n",
       " 343000,\n",
       " 357911,\n",
       " 373248,\n",
       " 389017,\n",
       " 405224,\n",
       " 421875,\n",
       " 438976,\n",
       " 456533,\n",
       " 474552,\n",
       " 493039,\n",
       " 512000,\n",
       " 531441,\n",
       " 551368,\n",
       " 571787,\n",
       " 592704,\n",
       " 614125,\n",
       " 636056,\n",
       " 658503,\n",
       " 681472,\n",
       " 704969,\n",
       " 729000,\n",
       " 753571,\n",
       " 778688,\n",
       " 804357,\n",
       " 830584,\n",
       " 857375,\n",
       " 884736,\n",
       " 912673,\n",
       " 941192,\n",
       " 970299,\n",
       " 1000000]"
      ]
     },
     "execution_count": 43,
     "metadata": {},
     "output_type": "execute_result"
    }
   ],
   "source": [
    "l3"
   ]
  },
  {
   "cell_type": "code",
   "execution_count": 44,
   "id": "0c1255f5-9340-4c3f-8ab8-3f99cfbd2038",
   "metadata": {},
   "outputs": [
    {
     "data": {
      "text/plain": [
       "[8,\n",
       " 64,\n",
       " 125,\n",
       " 216,\n",
       " 512,\n",
       " 1000,\n",
       " 1728,\n",
       " 2744,\n",
       " 3375,\n",
       " 4096,\n",
       " 5832,\n",
       " 8000,\n",
       " 10648,\n",
       " 13824,\n",
       " 15625,\n",
       " 17576,\n",
       " 21952,\n",
       " 27000,\n",
       " 32768,\n",
       " 39304,\n",
       " 42875,\n",
       " 46656,\n",
       " 54872,\n",
       " 64000,\n",
       " 74088,\n",
       " 85184,\n",
       " 91125,\n",
       " 97336,\n",
       " 110592,\n",
       " 125000,\n",
       " 140608,\n",
       " 157464,\n",
       " 166375,\n",
       " 175616,\n",
       " 195112,\n",
       " 216000,\n",
       " 238328,\n",
       " 262144,\n",
       " 274625,\n",
       " 287496,\n",
       " 314432,\n",
       " 343000,\n",
       " 373248,\n",
       " 405224,\n",
       " 421875,\n",
       " 438976,\n",
       " 474552,\n",
       " 512000,\n",
       " 551368,\n",
       " 592704,\n",
       " 614125,\n",
       " 636056,\n",
       " 681472,\n",
       " 729000,\n",
       " 778688,\n",
       " 830584,\n",
       " 857375,\n",
       " 884736,\n",
       " 941192,\n",
       " 1000000]"
      ]
     },
     "execution_count": 44,
     "metadata": {},
     "output_type": "execute_result"
    }
   ],
   "source": [
    "l4 "
   ]
  },
  {
   "cell_type": "code",
   "execution_count": null,
   "id": "748f3675-b2e7-4cc7-b2ab-215638126d85",
   "metadata": {},
   "outputs": [],
   "source": []
  },
  {
   "cell_type": "markdown",
   "id": "0b0b7fe4-0591-4d9a-8392-506a9fe5025b",
   "metadata": {},
   "source": [
    "### Q5.  Write a program to filter count vowels in the below-given string. string = \"I want to become a data scientist\" \n"
   ]
  },
  {
   "cell_type": "markdown",
   "id": "275517a1-a5cf-4e27-8894-7ba19d646f0a",
   "metadata": {},
   "source": [
    "### ANS:"
   ]
  },
  {
   "cell_type": "code",
   "execution_count": 45,
   "id": "9df4378f-51a7-48c2-964d-b086840ea176",
   "metadata": {},
   "outputs": [],
   "source": [
    "s = \"I want to become a data scientist \""
   ]
  },
  {
   "cell_type": "code",
   "execution_count": 62,
   "id": "1c04fbb3-8363-45a6-9f3f-20b4cda964b6",
   "metadata": {},
   "outputs": [],
   "source": [
    "string=s.lower()"
   ]
  },
  {
   "cell_type": "code",
   "execution_count": 63,
   "id": "88f5b1bc-c467-4bb8-813b-2ee363701729",
   "metadata": {},
   "outputs": [
    {
     "name": "stdout",
     "output_type": "stream",
     "text": [
      "12\n"
     ]
    }
   ],
   "source": [
    "count = 0\n",
    "for i in string:\n",
    "    if i == 'a' or i== 'e' or i=='i' or i=='o' or i=='u':\n",
    "        count = count +1\n",
    "print( count )"
   ]
  },
  {
   "cell_type": "code",
   "execution_count": 55,
   "id": "104c6007-089d-490e-aea0-779226dd7fc5",
   "metadata": {},
   "outputs": [
    {
     "name": "stdout",
     "output_type": "stream",
     "text": [
      "The number of vowels in the string is: 12\n"
     ]
    }
   ],
   "source": [
    "string = \"I want to become a data scientist\"\n",
    "\n",
    "# Function to count vowels in a string\n",
    "def count_vowels(input_string):\n",
    "    vowels = \"aeiouAEIOU\"\n",
    "    count = 0\n",
    "    for char in input_string:\n",
    "        if char in vowels:\n",
    "            count += 1\n",
    "    return count\n",
    "\n",
    "# Count vowels in the given string\n",
    "vowel_count = count_vowels(string)\n",
    "\n",
    "# Display the result\n",
    "print(f\"The number of vowels in the string is: {vowel_count}\")"
   ]
  },
  {
   "cell_type": "code",
   "execution_count": 57,
   "id": "27c1ddde-3d30-4c36-b1ba-bac88c7fb87e",
   "metadata": {},
   "outputs": [
    {
     "data": {
      "text/plain": [
       "12"
      ]
     },
     "execution_count": 57,
     "metadata": {},
     "output_type": "execute_result"
    }
   ],
   "source": [
    "count_vowels(string)"
   ]
  },
  {
   "cell_type": "code",
   "execution_count": 58,
   "id": "fe1ae146-7c53-415f-9236-8c24b709f8f6",
   "metadata": {},
   "outputs": [
    {
     "name": "stdout",
     "output_type": "stream",
     "text": [
      "The number of vowels in the string is: 12\n"
     ]
    }
   ],
   "source": [
    "# Given string\n",
    "string = \"I want to become a data scientist\"\n",
    "\n",
    "# Vowels\n",
    "vowels = 'aeiouAEIOU'\n",
    "\n",
    "# Using list comprehension to count vowels\n",
    "count = len([char for char in string if char in vowels])\n",
    "\n",
    "print(\"The number of vowels in the string is:\", count)\n"
   ]
  },
  {
   "cell_type": "code",
   "execution_count": null,
   "id": "3a73a138-560a-4e68-a3dc-ca9f3dc6e1b3",
   "metadata": {},
   "outputs": [],
   "source": []
  }
 ],
 "metadata": {
  "kernelspec": {
   "display_name": "Python 3 (ipykernel)",
   "language": "python",
   "name": "python3"
  },
  "language_info": {
   "codemirror_mode": {
    "name": "ipython",
    "version": 3
   },
   "file_extension": ".py",
   "mimetype": "text/x-python",
   "name": "python",
   "nbconvert_exporter": "python",
   "pygments_lexer": "ipython3",
   "version": "3.10.8"
  }
 },
 "nbformat": 4,
 "nbformat_minor": 5
}
